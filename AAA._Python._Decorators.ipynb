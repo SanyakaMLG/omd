{
 "cells": [
  {
   "cell_type": "markdown",
   "id": "11a22a53",
   "metadata": {},
   "source": [
    "# Дектораторы\n",
    "\n",
    "В этом домашнем задании мы напишем собственные дектораторы, которые будут менять системные объекты. Но для начала мы с вами познакомимся с функцией `write`."
   ]
  },
  {
   "cell_type": "code",
   "execution_count": 1,
   "id": "2c2dc3b0",
   "metadata": {
    "ExecuteTime": {
     "end_time": "2023-12-14T10:27:31.391811900Z",
     "start_time": "2023-12-14T10:27:31.379823600Z"
    }
   },
   "outputs": [
    {
     "name": "stdout",
     "output_type": "stream",
     "text": [
      "Hello, my friend!"
     ]
    },
    {
     "data": {
      "text/plain": "17"
     },
     "execution_count": 1,
     "metadata": {},
     "output_type": "execute_result"
    }
   ],
   "source": [
    "import sys\n",
    "\n",
    "sys.stdout.write('Hello, my friend!')"
   ]
  },
  {
   "cell_type": "markdown",
   "id": "23c92635",
   "metadata": {},
   "source": [
    "Это метод объектов file-like классов, то есть классов, которые реализуют семантику \"Меня можно создать, из меня можно прочитать и в меня можно записать\".\n",
    "\n",
    "Самый главный пример такого объекта -- объект `file`, являющийся результатом вызова фукнции `open()`. Для простоты и универсальности взаимодействия, стандартный ввод и стандартный вывод тоже являются файлами, из которых можно читать и в которые можно писать. "
   ]
  },
  {
   "cell_type": "code",
   "execution_count": 2,
   "id": "0ce62055",
   "metadata": {
    "ExecuteTime": {
     "end_time": "2023-12-14T10:24:29.385766200Z",
     "start_time": "2023-12-14T10:24:29.379272100Z"
    }
   },
   "outputs": [],
   "source": [
    "output = open(\"./some_test_data.txt\", 'w')"
   ]
  },
  {
   "cell_type": "code",
   "execution_count": 3,
   "id": "302f574f",
   "metadata": {
    "ExecuteTime": {
     "end_time": "2023-12-14T10:24:29.605681900Z",
     "start_time": "2023-12-14T10:24:29.599649200Z"
    }
   },
   "outputs": [
    {
     "data": {
      "text/plain": "3"
     },
     "execution_count": 3,
     "metadata": {},
     "output_type": "execute_result"
    }
   ],
   "source": [
    "output.write('123')"
   ]
  },
  {
   "cell_type": "code",
   "execution_count": 4,
   "id": "d08c53b4",
   "metadata": {
    "ExecuteTime": {
     "end_time": "2023-12-14T10:24:30.305141900Z",
     "start_time": "2023-12-14T10:24:30.297652100Z"
    }
   },
   "outputs": [],
   "source": [
    "output.close()"
   ]
  },
  {
   "cell_type": "markdown",
   "id": "b3bcebad",
   "metadata": {},
   "source": [
    "Как вы могли заметить, функция возвращает число записанных байт. Это важная часть контракта, которую нужно поддержать, если вы хотите как-то подменять эту функцию."
   ]
  },
  {
   "cell_type": "markdown",
   "id": "23b94491",
   "metadata": {},
   "source": [
    "## Задача 1"
   ]
  },
  {
   "cell_type": "markdown",
   "id": "1eb22a2f",
   "metadata": {},
   "source": [
    "Для начала, давайте подменим метод `write` у объекта `sys.stdin` на такую функцию, которая перед каждым вызовом оригинальной функции записи данных в `stdout` допечатывает к тексту текущую метку времени."
   ]
  },
  {
   "cell_type": "code",
   "execution_count": 2,
   "id": "75b31534ba4e371c",
   "metadata": {
    "collapsed": false,
    "ExecuteTime": {
     "end_time": "2023-12-14T10:27:33.763817700Z",
     "start_time": "2023-12-14T10:27:33.757244100Z"
    }
   },
   "outputs": [],
   "source": [
    "import datetime\n",
    "\n",
    "original_write = sys.stdout.write"
   ]
  },
  {
   "cell_type": "code",
   "execution_count": 9,
   "outputs": [],
   "source": [
    "def my_write(string_text):\n",
    "    if string_text == '\\n':\n",
    "        original_write(string_text)\n",
    "        return\n",
    "    timestamp = datetime.datetime.now().strftime('%Y-%m-%d %H:%M:%S')\n",
    "    text_with_timestamp = f'[{timestamp}]: {string_text}'\n",
    "    original_write(text_with_timestamp)"
   ],
   "metadata": {
    "collapsed": false,
    "ExecuteTime": {
     "end_time": "2023-12-14T10:28:20.835960600Z",
     "start_time": "2023-12-14T10:28:20.832970800Z"
    }
   },
   "id": "b6485b1b4e113b3d"
  },
  {
   "cell_type": "code",
   "execution_count": 10,
   "outputs": [],
   "source": [
    "sys.stdout.write = my_write"
   ],
   "metadata": {
    "ExecuteTime": {
     "end_time": "2023-12-14T10:28:21.042511Z",
     "start_time": "2023-12-14T10:28:21.035986Z"
    }
   },
   "id": "732073b9"
  },
  {
   "cell_type": "code",
   "execution_count": 11,
   "id": "d8f650f6",
   "metadata": {
    "ExecuteTime": {
     "end_time": "2023-12-14T10:28:21.559111500Z",
     "start_time": "2023-12-14T10:28:21.552620600Z"
    }
   },
   "outputs": [
    {
     "name": "stdout",
     "output_type": "stream",
     "text": [
      "[2023-12-14 13:28:21]: 1, 2, 3\n"
     ]
    }
   ],
   "source": [
    "print('1, 2, 3')"
   ]
  },
  {
   "cell_type": "code",
   "execution_count": 12,
   "id": "37617332",
   "metadata": {
    "ExecuteTime": {
     "end_time": "2023-12-14T10:28:27.226709700Z",
     "start_time": "2023-12-14T10:28:27.216710600Z"
    }
   },
   "outputs": [],
   "source": [
    "sys.stdout.write = original_write"
   ]
  },
  {
   "cell_type": "markdown",
   "id": "3c5e22b6",
   "metadata": {},
   "source": [
    "Вывод должен был бы быть примерно таким:"
   ]
  },
  {
   "cell_type": "markdown",
   "id": "e62d012d",
   "metadata": {},
   "source": [
    "```\n",
    "[2021-12-05 12:00:00]: 1, 2, 3\n",
    "```"
   ]
  },
  {
   "cell_type": "markdown",
   "id": "903fcee1",
   "metadata": {},
   "source": [
    "## Задача 2\n",
    "\n",
    "Упакуйте только что написанный код в декторатор. Весь вывод фукнции должен быть помечен временными метками так, как видно выше."
   ]
  },
  {
   "cell_type": "code",
   "execution_count": 16,
   "id": "5804423b",
   "metadata": {
    "ExecuteTime": {
     "end_time": "2023-12-14T10:30:19.907963100Z",
     "start_time": "2023-12-14T10:30:19.897376200Z"
    }
   },
   "outputs": [],
   "source": [
    "import datetime\n",
    "\n",
    "def timed_output(function):\n",
    "    def wrapper(*args, **kwargs):\n",
    "        def my_write(string_text):\n",
    "            if string_text == '\\n':\n",
    "                original_write(string_text)\n",
    "                return\n",
    "            timestamp = datetime.datetime.now().strftime('%Y-%m-%d %H:%M:%S')\n",
    "            text_with_timestamp = f'[{timestamp}]: {string_text}'\n",
    "            original_write(text_with_timestamp)\n",
    "            \n",
    "        original_write = sys.stdout.write\n",
    "        sys.stdout.write = my_write\n",
    "        function(*args, **kwargs)\n",
    "        sys.stdout.write = original_write\n",
    "    return wrapper"
   ]
  },
  {
   "cell_type": "code",
   "execution_count": 17,
   "id": "f43373a5",
   "metadata": {
    "ExecuteTime": {
     "end_time": "2023-12-14T10:30:20.947366500Z",
     "start_time": "2023-12-14T10:30:20.940383800Z"
    }
   },
   "outputs": [],
   "source": [
    "@timed_output\n",
    "def print_greeting(name):\n",
    "    print(f'Hello, {name}!')"
   ]
  },
  {
   "cell_type": "code",
   "execution_count": 18,
   "id": "6a2283db",
   "metadata": {
    "ExecuteTime": {
     "end_time": "2023-12-14T10:30:21.762511400Z",
     "start_time": "2023-12-14T10:30:21.756018100Z"
    }
   },
   "outputs": [
    {
     "name": "stdout",
     "output_type": "stream",
     "text": [
      "[2023-12-14 13:30:21]: Hello, Nikita!\n"
     ]
    }
   ],
   "source": [
    "print_greeting(\"Nikita\")"
   ]
  },
  {
   "cell_type": "markdown",
   "id": "37fad5fd",
   "metadata": {},
   "source": [
    "Вывод должен быть похож на следующий:\n",
    "\n",
    "```\n",
    "[2021-12-05 12:00:00]: Hello, Nikita!\n",
    "```"
   ]
  },
  {
   "cell_type": "markdown",
   "id": "8a3aee6d",
   "metadata": {},
   "source": [
    "## Задача 3\n",
    "\n",
    "Напишите декторатор, который будет перенаправлять вывод фукнции в файл. \n",
    "\n",
    "Подсказка: вы можете заменить объект sys.stdout каким-нибудь другим объектом."
   ]
  },
  {
   "cell_type": "code",
   "execution_count": 4,
   "id": "de733186",
   "metadata": {
    "ExecuteTime": {
     "end_time": "2023-12-14T10:17:13.853214600Z",
     "start_time": "2023-12-14T10:17:13.842860800Z"
    }
   },
   "outputs": [],
   "source": [
    "def redirect_output(filepath):\n",
    "    def decorator(func):\n",
    "        def wrapper(*args, **kwargs):\n",
    "            original = sys.stdout\n",
    "            with open(filepath, 'w') as output:\n",
    "                sys.stdout = output\n",
    "                res = func(*args, **kwargs)\n",
    "                sys.stdout = original\n",
    "            return res\n",
    "        return wrapper\n",
    "    return decorator"
   ]
  },
  {
   "cell_type": "code",
   "execution_count": 5,
   "id": "37e01742",
   "metadata": {
    "ExecuteTime": {
     "end_time": "2023-12-14T10:17:14.135833600Z",
     "start_time": "2023-12-14T10:17:14.128711100Z"
    }
   },
   "outputs": [],
   "source": [
    "@redirect_output('function_output.txt')\n",
    "def calculate():\n",
    "    for power in range(1, 5):\n",
    "        for num in range(1, 20):\n",
    "            print(num ** power, end=' ')\n",
    "        print()"
   ]
  },
  {
   "cell_type": "code",
   "execution_count": 6,
   "id": "e892f124",
   "metadata": {
    "ExecuteTime": {
     "end_time": "2023-12-14T10:17:14.538944100Z",
     "start_time": "2023-12-14T10:17:14.532952400Z"
    }
   },
   "outputs": [],
   "source": [
    "calculate()"
   ]
  },
  {
   "cell_type": "code",
   "execution_count": 33,
   "id": "ac06c89e",
   "metadata": {
    "ExecuteTime": {
     "end_time": "2023-12-14T10:07:00.488232Z",
     "start_time": "2023-12-14T10:07:00.484716500Z"
    }
   },
   "outputs": [
    {
     "name": "stderr",
     "output_type": "stream",
     "text": [
      "UsageError: Line magic function `%cat` not found.\n"
     ]
    }
   ],
   "source": [
    "%cat function_output.txt"
   ]
  }
 ],
 "metadata": {
  "kernelspec": {
   "display_name": "Python 3 (ipykernel)",
   "language": "python",
   "name": "python3"
  },
  "language_info": {
   "codemirror_mode": {
    "name": "ipython",
    "version": 3
   },
   "file_extension": ".py",
   "mimetype": "text/x-python",
   "name": "python",
   "nbconvert_exporter": "python",
   "pygments_lexer": "ipython3",
   "version": "3.9.9"
  }
 },
 "nbformat": 4,
 "nbformat_minor": 5
}
